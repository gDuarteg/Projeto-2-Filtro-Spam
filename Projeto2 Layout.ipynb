{
 "cells": [
  {
   "cell_type": "markdown",
   "metadata": {},
   "source": [
    "___\n",
    "# Ciência dos Dados - PROJETO 2"
   ]
  },
  {
   "cell_type": "markdown",
   "metadata": {},
   "source": [
    "___\n",
    "## Beni Stern\n",
    "\n",
    "## Leonardo Costa\n",
    "\n",
    "## Gabriel Duarte\n",
    "\n",
    "___"
   ]
  },
  {
   "cell_type": "markdown",
   "metadata": {},
   "source": [
    "___\n",
    "\n",
    "## 1. Problema\n",
    "\n",
    "O Classificador Naive-Bayes, o qual se baseia no uso do teorema de Bayes, é largamente utilizado em filtros anti-spam de e-mails. O classificador permite calcular qual a probabilidade de uma mensagem ser SPAM considerando as palavras em seu conteúdo e, de forma complementar, permite calcular a probabilidade de uma mensagem ser HAM dada as palavras descritas na mensagem.\n",
    "\n",
    "Para realizar o MVP (minimum viable product) do projeto, você precisa programar uma versão do classificador que \"aprende\" o que é uma mensagem SPAM considerando uma base de treinamento e comparar o desempenho dos resultados com uma base de testes. \n"
   ]
  },
  {
   "cell_type": "markdown",
   "metadata": {},
   "source": [
    "___\n",
    "## 2. Separação da base de dados em Treinamento e Teste\n",
    "\n",
    "A base de dados deve ser separada em duas partes, aleatoriamente, considerando: \n",
    "    \n",
    "    75% dos dados para a parte Treinamento; e\n",
    "    25% dos dados para a parte Teste."
   ]
  },
  {
   "cell_type": "code",
   "execution_count": null,
   "metadata": {},
   "outputs": [],
   "source": [
    "import pandas as pd\n",
    "import os\n",
    "import numpy as np\n",
    "import matplotlib.pyplot as plt"
   ]
  },
  {
   "cell_type": "code",
   "execution_count": 241,
   "metadata": {},
   "outputs": [
    {
     "name": "stdout",
     "output_type": "stream",
     "text": [
      "Esperamos trabalhar no diretório\n",
      "C:\\Users\\Duarte\\Downloads\\INSPER aqui tbm\\DADOS DP\\Projeto2\\Projeto-2-Filtro-Spam\n"
     ]
    }
   ],
   "source": [
    "print('Esperamos trabalhar no diretório')\n",
    "print(os.getcwd())"
   ]
  },
  {
   "cell_type": "code",
   "execution_count": 242,
   "metadata": {},
   "outputs": [],
   "source": [
    "dados = pd.read_excel(\"spamham2019.xlsx\")"
   ]
  },
  {
   "cell_type": "code",
   "execution_count": 243,
   "metadata": {},
   "outputs": [],
   "source": [
    "def Embaralhar(dados):  \n",
    "    dados_aleatorio = dados.sample(frac=1)\n",
    "    dados_aleatorio = dados.sample(frac=1).reset_index(drop=True)\n",
    "    dados_treinamento_suju = dados_aleatorio.loc[:4180:,:]\n",
    "    dados_teste_suju = dados_aleatorio.loc[4180:,:]\n",
    "    return dados_treinamento_suju,dados_teste_suju\n",
    "dados_treinamento_suju,dados_teste_suju = Embaralhar(dados)"
   ]
  },
  {
   "cell_type": "code",
   "execution_count": 244,
   "metadata": {},
   "outputs": [
    {
     "data": {
      "text/html": [
       "<div>\n",
       "<style scoped>\n",
       "    .dataframe tbody tr th:only-of-type {\n",
       "        vertical-align: middle;\n",
       "    }\n",
       "\n",
       "    .dataframe tbody tr th {\n",
       "        vertical-align: top;\n",
       "    }\n",
       "\n",
       "    .dataframe thead th {\n",
       "        text-align: right;\n",
       "    }\n",
       "</style>\n",
       "<table border=\"1\" class=\"dataframe\">\n",
       "  <thead>\n",
       "    <tr style=\"text-align: right;\">\n",
       "      <th></th>\n",
       "      <th>Email</th>\n",
       "      <th>Class</th>\n",
       "    </tr>\n",
       "  </thead>\n",
       "  <tbody>\n",
       "    <tr>\n",
       "      <th>0</th>\n",
       "      <td>Are you this much buzy</td>\n",
       "      <td>ham</td>\n",
       "    </tr>\n",
       "    <tr>\n",
       "      <th>1</th>\n",
       "      <td>Aight, let me know when you're gonna be around...</td>\n",
       "      <td>ham</td>\n",
       "    </tr>\n",
       "    <tr>\n",
       "      <th>2</th>\n",
       "      <td>Hello. They are going to the village pub at 8 ...</td>\n",
       "      <td>ham</td>\n",
       "    </tr>\n",
       "    <tr>\n",
       "      <th>3</th>\n",
       "      <td>I love you. You set my soul on fire. It is not...</td>\n",
       "      <td>ham</td>\n",
       "    </tr>\n",
       "    <tr>\n",
       "      <th>4</th>\n",
       "      <td>I don't want you to leave. But i'm barely doin...</td>\n",
       "      <td>ham</td>\n",
       "    </tr>\n",
       "  </tbody>\n",
       "</table>\n",
       "</div>"
      ],
      "text/plain": [
       "                                               Email Class\n",
       "0                             Are you this much buzy   ham\n",
       "1  Aight, let me know when you're gonna be around...   ham\n",
       "2  Hello. They are going to the village pub at 8 ...   ham\n",
       "3  I love you. You set my soul on fire. It is not...   ham\n",
       "4  I don't want you to leave. But i'm barely doin...   ham"
      ]
     },
     "execution_count": 244,
     "metadata": {},
     "output_type": "execute_result"
    }
   ],
   "source": [
    "dados_treinamento_suju.head()"
   ]
  },
  {
   "cell_type": "code",
   "execution_count": 245,
   "metadata": {},
   "outputs": [
    {
     "data": {
      "text/html": [
       "<div>\n",
       "<style scoped>\n",
       "    .dataframe tbody tr th:only-of-type {\n",
       "        vertical-align: middle;\n",
       "    }\n",
       "\n",
       "    .dataframe tbody tr th {\n",
       "        vertical-align: top;\n",
       "    }\n",
       "\n",
       "    .dataframe thead th {\n",
       "        text-align: right;\n",
       "    }\n",
       "</style>\n",
       "<table border=\"1\" class=\"dataframe\">\n",
       "  <thead>\n",
       "    <tr style=\"text-align: right;\">\n",
       "      <th></th>\n",
       "      <th>Email</th>\n",
       "      <th>Class</th>\n",
       "    </tr>\n",
       "  </thead>\n",
       "  <tbody>\n",
       "    <tr>\n",
       "      <th>4180</th>\n",
       "      <td>Ok no prob...</td>\n",
       "      <td>ham</td>\n",
       "    </tr>\n",
       "    <tr>\n",
       "      <th>4181</th>\n",
       "      <td>Send this to ur friends and receive something ...</td>\n",
       "      <td>ham</td>\n",
       "    </tr>\n",
       "    <tr>\n",
       "      <th>4182</th>\n",
       "      <td>Sounds great! Im going to sleep now. Have a go...</td>\n",
       "      <td>ham</td>\n",
       "    </tr>\n",
       "    <tr>\n",
       "      <th>4183</th>\n",
       "      <td>Wot about on wed nite I am 3 then but only til 9!</td>\n",
       "      <td>ham</td>\n",
       "    </tr>\n",
       "    <tr>\n",
       "      <th>4184</th>\n",
       "      <td>Just finished. Missing you plenty</td>\n",
       "      <td>ham</td>\n",
       "    </tr>\n",
       "  </tbody>\n",
       "</table>\n",
       "</div>"
      ],
      "text/plain": [
       "                                                  Email Class\n",
       "4180                                      Ok no prob...   ham\n",
       "4181  Send this to ur friends and receive something ...   ham\n",
       "4182  Sounds great! Im going to sleep now. Have a go...   ham\n",
       "4183  Wot about on wed nite I am 3 then but only til 9!   ham\n",
       "4184                  Just finished. Missing you plenty   ham"
      ]
     },
     "execution_count": 245,
     "metadata": {},
     "output_type": "execute_result"
    }
   ],
   "source": [
    "dados_teste_suju.head()"
   ]
  },
  {
   "cell_type": "markdown",
   "metadata": {},
   "source": [
    "___\n",
    "## 3. Classificador Naive-Bayes"
   ]
  },
  {
   "cell_type": "code",
   "execution_count": 246,
   "metadata": {},
   "outputs": [
    {
     "data": {
      "text/html": [
       "<div>\n",
       "<style scoped>\n",
       "    .dataframe tbody tr th:only-of-type {\n",
       "        vertical-align: middle;\n",
       "    }\n",
       "\n",
       "    .dataframe tbody tr th {\n",
       "        vertical-align: top;\n",
       "    }\n",
       "\n",
       "    .dataframe thead th {\n",
       "        text-align: right;\n",
       "    }\n",
       "</style>\n",
       "<table border=\"1\" class=\"dataframe\">\n",
       "  <thead>\n",
       "    <tr style=\"text-align: right;\">\n",
       "      <th></th>\n",
       "      <th>Class</th>\n",
       "      <th>Email</th>\n",
       "    </tr>\n",
       "  </thead>\n",
       "  <tbody>\n",
       "    <tr>\n",
       "      <th>4180</th>\n",
       "      <td>ham</td>\n",
       "      <td>Ok no prob</td>\n",
       "    </tr>\n",
       "    <tr>\n",
       "      <th>4181</th>\n",
       "      <td>ham</td>\n",
       "      <td>Send this to ur friends and receive something ...</td>\n",
       "    </tr>\n",
       "    <tr>\n",
       "      <th>4182</th>\n",
       "      <td>ham</td>\n",
       "      <td>Sounds great! Im going to sleep now Have a goo...</td>\n",
       "    </tr>\n",
       "    <tr>\n",
       "      <th>4183</th>\n",
       "      <td>ham</td>\n",
       "      <td>Wot about on wed nite I am 3 then but only til 9!</td>\n",
       "    </tr>\n",
       "    <tr>\n",
       "      <th>4184</th>\n",
       "      <td>ham</td>\n",
       "      <td>Just finished Missing you plenty</td>\n",
       "    </tr>\n",
       "  </tbody>\n",
       "</table>\n",
       "</div>"
      ],
      "text/plain": [
       "     Class                                              Email\n",
       "4180   ham                                         Ok no prob\n",
       "4181   ham  Send this to ur friends and receive something ...\n",
       "4182   ham  Sounds great! Im going to sleep now Have a goo...\n",
       "4183   ham  Wot about on wed nite I am 3 then but only til 9!\n",
       "4184   ham                   Just finished Missing you plenty"
      ]
     },
     "execution_count": 246,
     "metadata": {},
     "output_type": "execute_result"
    }
   ],
   "source": [
    "def Filtro(base):\n",
    "    lista = []\n",
    "    for e in base[\"Email\"]:\n",
    "        e = e.replace(\",\",\"\").replace(\"/n\", \"\").replace('\"\"', \"\").replace(\"'\", \"\").replace(\":\", \"\").replace(\".\", \"\").replace(\"...\", \"\").replace(\")\", \"\").replace(\"(\", \"\").replace(\"\", \"\").replace(\"*\", \"\").replace(\"#\", \"\").replace(\";\", \"\").replace(\"&\", \"\").replace(\"?\", \"\")\n",
    "        lista.append(e)\n",
    "    base2 = pd.DataFrame({\"Email\":lista,\"Class\":base[\"Class\"]})  \n",
    "    return base2\n",
    "\n",
    "dados_treinamento = Filtro(dados_treinamento_suju)\n",
    "dados_teste = Filtro(dados_teste_suju)\n",
    "dados_teste.head()"
   ]
  },
  {
   "cell_type": "code",
   "execution_count": 247,
   "metadata": {
    "slideshow": {
     "slide_type": "slide"
    }
   },
   "outputs": [
    {
     "name": "stdout",
     "output_type": "stream",
     "text": [
      "P(SPAM) =  0.13322171729251375\n",
      "P(HAM)  =  0.8667782827074862\n"
     ]
    }
   ],
   "source": [
    "def PSH(dados):\n",
    "    n_ham = dados[\"Class\"].value_counts()[0]\n",
    "    n_spam = dados[\"Class\"].value_counts()[1]\n",
    "    total = n_spam + n_ham\n",
    "\n",
    "    P_ham = n_ham/total\n",
    "    P_spam = n_spam/total\n",
    "    return P_spam,P_ham\n",
    "P_spam,P_ham=PSH(dados_treinamento)\n",
    "print(\"P(SPAM) = \", P_spam)\n",
    "print(\"P(HAM)  = \", P_ham)"
   ]
  },
  {
   "cell_type": "code",
   "execution_count": 248,
   "metadata": {},
   "outputs": [
    {
     "data": {
      "text/html": [
       "<div>\n",
       "<style scoped>\n",
       "    .dataframe tbody tr th:only-of-type {\n",
       "        vertical-align: middle;\n",
       "    }\n",
       "\n",
       "    .dataframe tbody tr th {\n",
       "        vertical-align: top;\n",
       "    }\n",
       "\n",
       "    .dataframe thead th {\n",
       "        text-align: right;\n",
       "    }\n",
       "</style>\n",
       "<table border=\"1\" class=\"dataframe\">\n",
       "  <thead>\n",
       "    <tr style=\"text-align: right;\">\n",
       "      <th></th>\n",
       "      <th>Quantidade</th>\n",
       "      <th>P(word|Spam)</th>\n",
       "    </tr>\n",
       "  </thead>\n",
       "  <tbody>\n",
       "    <tr>\n",
       "      <th>to</th>\n",
       "      <td>457</td>\n",
       "      <td>0.034143</td>\n",
       "    </tr>\n",
       "    <tr>\n",
       "      <th>a</th>\n",
       "      <td>270</td>\n",
       "      <td>0.020172</td>\n",
       "    </tr>\n",
       "    <tr>\n",
       "      <th>you</th>\n",
       "      <td>140</td>\n",
       "      <td>0.010459</td>\n",
       "    </tr>\n",
       "    <tr>\n",
       "      <th>call</th>\n",
       "      <td>139</td>\n",
       "      <td>0.010385</td>\n",
       "    </tr>\n",
       "    <tr>\n",
       "      <th>the</th>\n",
       "      <td>135</td>\n",
       "      <td>0.010086</td>\n",
       "    </tr>\n",
       "  </tbody>\n",
       "</table>\n",
       "</div>"
      ],
      "text/plain": [
       "      Quantidade  P(word|Spam)\n",
       "to           457      0.034143\n",
       "a            270      0.020172\n",
       "you          140      0.010459\n",
       "call         139      0.010385\n",
       "the          135      0.010086"
      ]
     },
     "execution_count": 248,
     "metadata": {},
     "output_type": "execute_result"
    }
   ],
   "source": [
    "def p_word(date,nome):\n",
    "    frase = date[\"Email\"]\n",
    "    palavras_em_lista = []\n",
    "    \n",
    "    for linha in frase:\n",
    "        lista_palavras = linha.split(\" \")\n",
    "        \n",
    "        for p in lista_palavras:\n",
    "            palavras_em_lista.append(p)        \n",
    "    \n",
    "    total_palavras = len(palavras_em_lista)\n",
    "    \n",
    "    palavras = pd.DataFrame(palavras_em_lista)\n",
    "    contagem = palavras[0].value_counts()\n",
    "    tabela_contagem = pd.DataFrame(contagem)\n",
    "    nome_tabela = 'P(word|{})'.format(nome)\n",
    "    final = tabela_contagem.rename(index=str,columns={0: \"Quantidade\"})\n",
    "    \n",
    "    final[nome_tabela] = final[\"Quantidade\"]/total_palavras\n",
    "    \n",
    "    return final\n",
    "\n",
    "P_wordSpam = p_word(dados_treinamento[dados_treinamento.Class == \"spam\"],\"Spam\")\n",
    "P_wordHam = p_word(dados_treinamento[dados_treinamento.Class == \"ham\"],\"Ham\")\n",
    "P_word = p_word(dados_treinamento,\" \")\n",
    "\n",
    "P_wordSpam.head()"
   ]
  },
  {
   "cell_type": "code",
   "execution_count": 249,
   "metadata": {},
   "outputs": [],
   "source": [
    "def Classificador(Dados,data_ham,data_spam,data_word,p_ham,p_spam): \n",
    "    for mensagem in Dados['Email']:\n",
    "        lista_palavras = mensagem.split(\" \")\n",
    "        p_data_ham=[]\n",
    "        resu_ham=1\n",
    "\n",
    "        p_data_spam=[]\n",
    "        resu_spam=1\n",
    "\n",
    "        p_word_total=[]\n",
    "        resu_word=1\n",
    "        \n",
    "        # Juntando Lista de P(word|Ham) & P(Word|Spam) & P(word)\n",
    "        for pa in lista_palavras:\n",
    "            try:    \n",
    "                p_msg_ham = data_ham.loc[pa][1]\n",
    "                p_data_ham.append(p_msg_ham)\n",
    "            except:\n",
    "                p_data_ham.append(0.000015)\n",
    "\n",
    "            try:    \n",
    "                p_msg_spam = data_spam.loc[pa][1]\n",
    "                p_data_spam.append(p_msg_spam)\n",
    "            except:\n",
    "                p_data_spam.append(0.000015)\n",
    "\n",
    "            try:\n",
    "                p_msg_word = data_word.loc[pa][0]\n",
    "                p_word_total.append(p_msg_word)\n",
    "            except:\n",
    "                p_word_total.append(0.000015)\n",
    "        \n",
    "        # Calculando probrabilidade das frases P(mensagem|Ham) & P(mensagem|Spam) & P(mensagem)\n",
    "        for p1 in p_data_spam:\n",
    "            resu_ham *= p1\n",
    "        for p2 in p_data_spam:\n",
    "            resu_spam *= p2\n",
    "        for p3 in p_word_total:\n",
    "            resu_word *= p3\n",
    "        \n",
    "        # Calculando as probrabilidades P(Ham|mensagem) & P(Spam|mensagem)\n",
    "        resu_ham2 = (resu_ham*p_ham)/resu_word\n",
    "        resu_spam2 = (resu_spam*p_spam)/resu_word\n",
    "        \n",
    "        #Verificando qual é maior\n",
    "        if resu_ham2 >= resu_spam2:\n",
    "            resultado = \"ham\"\n",
    "        else:\n",
    "            resultado = \"spam\"\n",
    "            \n",
    "        Dados['Classificador'] = resultado\n",
    "    return Dados\n",
    "\n",
    "Teste = Classificador(dados_teste,P_wordHam,P_wordSpam,P_word,P_ham,P_spam)"
   ]
  },
  {
   "cell_type": "code",
   "execution_count": 250,
   "metadata": {},
   "outputs": [
    {
     "data": {
      "text/html": [
       "<div>\n",
       "<style scoped>\n",
       "    .dataframe tbody tr th:only-of-type {\n",
       "        vertical-align: middle;\n",
       "    }\n",
       "\n",
       "    .dataframe tbody tr th {\n",
       "        vertical-align: top;\n",
       "    }\n",
       "\n",
       "    .dataframe thead th {\n",
       "        text-align: right;\n",
       "    }\n",
       "</style>\n",
       "<table border=\"1\" class=\"dataframe\">\n",
       "  <thead>\n",
       "    <tr style=\"text-align: right;\">\n",
       "      <th></th>\n",
       "      <th>Class</th>\n",
       "      <th>Email</th>\n",
       "      <th>Classificador</th>\n",
       "    </tr>\n",
       "  </thead>\n",
       "  <tbody>\n",
       "    <tr>\n",
       "      <th>4180</th>\n",
       "      <td>ham</td>\n",
       "      <td>Ok no prob</td>\n",
       "      <td>ham</td>\n",
       "    </tr>\n",
       "    <tr>\n",
       "      <th>4181</th>\n",
       "      <td>ham</td>\n",
       "      <td>Send this to ur friends and receive something ...</td>\n",
       "      <td>ham</td>\n",
       "    </tr>\n",
       "    <tr>\n",
       "      <th>4182</th>\n",
       "      <td>ham</td>\n",
       "      <td>Sounds great! Im going to sleep now Have a goo...</td>\n",
       "      <td>ham</td>\n",
       "    </tr>\n",
       "    <tr>\n",
       "      <th>4183</th>\n",
       "      <td>ham</td>\n",
       "      <td>Wot about on wed nite I am 3 then but only til 9!</td>\n",
       "      <td>ham</td>\n",
       "    </tr>\n",
       "    <tr>\n",
       "      <th>4184</th>\n",
       "      <td>ham</td>\n",
       "      <td>Just finished Missing you plenty</td>\n",
       "      <td>ham</td>\n",
       "    </tr>\n",
       "  </tbody>\n",
       "</table>\n",
       "</div>"
      ],
      "text/plain": [
       "     Class                                              Email Classificador\n",
       "4180   ham                                         Ok no prob           ham\n",
       "4181   ham  Send this to ur friends and receive something ...           ham\n",
       "4182   ham  Sounds great! Im going to sleep now Have a goo...           ham\n",
       "4183   ham  Wot about on wed nite I am 3 then but only til 9!           ham\n",
       "4184   ham                   Just finished Missing you plenty           ham"
      ]
     },
     "execution_count": 250,
     "metadata": {},
     "output_type": "execute_result"
    }
   ],
   "source": [
    "Teste.head()"
   ]
  },
  {
   "cell_type": "code",
   "execution_count": 251,
   "metadata": {},
   "outputs": [],
   "source": [
    "def Resultados(baze0):\n",
    "    baze = baze0.reset_index(drop=True)\n",
    "    Falso_positivo = 0\n",
    "    Positivo_Verdadeiro = 0\n",
    "    Falso_negativo = 0\n",
    "    Negativos_verdadeiros = 0\n",
    "    n = len(baze)\n",
    "    for i in range(n):\n",
    "        resultado = [baze['Class'][i],baze['Classificador'][i]]\n",
    "        if resultado  == ['ham','ham']:\n",
    "            Negativos_verdadeiros +=1\n",
    "        if resultado  == ['spam','ham']:\n",
    "            Falso_negativo +=1  \n",
    "        if resultado  == ['spam','spam']:\n",
    "            Positivo_Verdadeiro +=1\n",
    "        if resultado  == ['ham','spam']:\n",
    "            Falso_positivo +=1\n",
    "    FP = Falso_positivo/n\n",
    "    PV = Positivo_Verdadeiro/n\n",
    "    FN = Falso_negativo/n\n",
    "    NV = Negativos_verdadeiros/n\n",
    "    \n",
    "    return [FP,PV,FN,NV]"
   ]
  },
  {
   "cell_type": "code",
   "execution_count": 252,
   "metadata": {},
   "outputs": [
    {
     "name": "stdout",
     "output_type": "stream",
     "text": [
      "Falso positivo 0.0\n",
      "Positivo Verdadeiro  0.0\n",
      "Falso negativo 0.13649425287356323\n",
      "Negativos verdadeiro 0.8635057471264368\n"
     ]
    }
   ],
   "source": [
    "print('Falso positivo',Resultados(Teste)[0])\n",
    "print('Positivo Verdadeiro ',Resultados(Teste)[1])\n",
    "print('Falso negativo',Resultados(Teste)[2])\n",
    "print('Negativos verdadeiro',Resultados(Teste)[3])"
   ]
  },
  {
   "cell_type": "markdown",
   "metadata": {},
   "source": [
    "Observando o resultado do classificador podemos observar que ele não classifica nenhuma mensagem como Spam, esse erro pode ser causado por existirem muito menos mensagens de Spam do que Ham, então o algoritmo aprende melhor o que é mensagens do tipo Ham."
   ]
  },
  {
   "cell_type": "markdown",
   "metadata": {},
   "source": [
    "___\n",
    "## 4. Qualidade do Classificador alterando a base de treinamento"
   ]
  },
  {
   "cell_type": "code",
   "execution_count": 256,
   "metadata": {},
   "outputs": [],
   "source": [
    "Salvos = []\n",
    "for i in range(10000):\n",
    "    treino_suju,teste_suju = Embaralhar(dados)\n",
    "    treino = Filtro(treino_suju)\n",
    "    teste = Filtro(teste_suju)\n",
    "    P6,P5 = PSH(treino)\n",
    "    \n",
    "    P3 = p_word(treino[treino.Class == \"spam\"],\"Spam\")\n",
    "    P2 = p_word(treino[treino.Class == \"ham\"],\"Ham\")\n",
    "    P4 = p_word(treino,\" \")\n",
    "    \n",
    "    final = Classificador(teste,P2,P3,P4,P5,P6)\n",
    "    Res = Resultados(final)\n",
    "    R = Res[3]+Res[1]\n",
    "    Salvos.append(R)"
   ]
  },
  {
   "cell_type": "code",
   "execution_count": 261,
   "metadata": {},
   "outputs": [
    {
     "data": {
      "text/html": [
       "<div>\n",
       "<style scoped>\n",
       "    .dataframe tbody tr th:only-of-type {\n",
       "        vertical-align: middle;\n",
       "    }\n",
       "\n",
       "    .dataframe tbody tr th {\n",
       "        vertical-align: top;\n",
       "    }\n",
       "\n",
       "    .dataframe thead th {\n",
       "        text-align: right;\n",
       "    }\n",
       "</style>\n",
       "<table border=\"1\" class=\"dataframe\">\n",
       "  <thead>\n",
       "    <tr style=\"text-align: right;\">\n",
       "      <th></th>\n",
       "      <th>0</th>\n",
       "    </tr>\n",
       "  </thead>\n",
       "  <tbody>\n",
       "    <tr>\n",
       "      <th>count</th>\n",
       "      <td>100.000000</td>\n",
       "    </tr>\n",
       "    <tr>\n",
       "      <th>mean</th>\n",
       "      <td>0.865984</td>\n",
       "    </tr>\n",
       "    <tr>\n",
       "      <th>std</th>\n",
       "      <td>0.007862</td>\n",
       "    </tr>\n",
       "    <tr>\n",
       "      <th>min</th>\n",
       "      <td>0.845546</td>\n",
       "    </tr>\n",
       "    <tr>\n",
       "      <th>25%</th>\n",
       "      <td>0.862069</td>\n",
       "    </tr>\n",
       "    <tr>\n",
       "      <th>50%</th>\n",
       "      <td>0.865661</td>\n",
       "    </tr>\n",
       "    <tr>\n",
       "      <th>75%</th>\n",
       "      <td>0.871408</td>\n",
       "    </tr>\n",
       "    <tr>\n",
       "      <th>max</th>\n",
       "      <td>0.890086</td>\n",
       "    </tr>\n",
       "  </tbody>\n",
       "</table>\n",
       "</div>"
      ],
      "text/plain": [
       "                0\n",
       "count  100.000000\n",
       "mean     0.865984\n",
       "std      0.007862\n",
       "min      0.845546\n",
       "25%      0.862069\n",
       "50%      0.865661\n",
       "75%      0.871408\n",
       "max      0.890086"
      ]
     },
     "execution_count": 261,
     "metadata": {},
     "output_type": "execute_result"
    },
    {
     "data": {
      "image/png": "[encoded data removed]",
      "text/plain": [
       "<matplotlib.figure.Figure at 0x183bb2effd0>"
      ]
     },
     "metadata": {},
     "output_type": "display_data"
    }
   ],
   "source": [
    "salvos = pd.DataFrame(Salvos)\n",
    "salvos.plot.hist()\n",
    "salvos.describe()"
   ]
  },
  {
   "cell_type": "markdown",
   "metadata": {},
   "source": [
    "Podemos ver que o gráfico forma uma curva normal com média igual a 0.86, com ela podemos ter muito mais certeza sobre a qualidadade do nosso classificador ."
   ]
  },
  {
   "cell_type": "code",
   "execution_count": null,
   "metadata": {},
   "outputs": [],
   "source": []
  }
 ],
 "metadata": {
  "anaconda-cloud": {},
  "kernelspec": {
   "display_name": "Python 3",
   "language": "python",
   "name": "python3"
  },
  "language_info": {
   "codemirror_mode": {
    "name": "ipython",
    "version": 3
   },
   "file_extension": ".py",
   "mimetype": "text/x-python",
   "name": "python",
   "nbconvert_exporter": "python",
   "pygments_lexer": "ipython3",
   "version": "3.6.4"
  }
 },
 "nbformat": 4,
 "nbformat_minor": 1
}
